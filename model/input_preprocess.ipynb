{
 "cells": [
  {
   "cell_type": "code",
   "execution_count": 1,
   "metadata": {},
   "outputs": [],
   "source": [
    "import scanpy as sc\n",
    "import pandas as pd\n",
    "import numpy as np\n",
    "import anndata as ad"
   ]
  },
  {
   "cell_type": "code",
   "execution_count": 2,
   "metadata": {},
   "outputs": [
    {
     "data": {
      "text/plain": [
       "AnnData object with n_obs × n_vars = 111445 × 33694\n",
       "    obs: 'guide_id', 'read_count', 'UMI_count', 'coverage', 'gemgroup', 'good_coverage', 'number_of_cells', 'tissue_type', 'cell_line', 'cancer', 'disease', 'perturbation_type', 'celltype', 'organism', 'perturbation', 'nperts', 'ngenes', 'ncounts', 'percent_mito', 'percent_ribo'\n",
       "    var: 'ensemble_id', 'ncounts', 'ncells'"
      ]
     },
     "execution_count": 2,
     "metadata": {},
     "output_type": "execute_result"
    }
   ],
   "source": [
    "adata_norm = sc.read_h5ad(\"data/h5ad/NormanWeissman2019_filtered.h5ad\")\n",
    "adata_norm"
   ]
  },
  {
   "cell_type": "code",
   "execution_count": 3,
   "metadata": {},
   "outputs": [],
   "source": [
    "sc.pp.normalize_total(adata_norm)\n",
    "sc.pp.log1p(adata_norm)"
   ]
  },
  {
   "cell_type": "code",
   "execution_count": 4,
   "metadata": {},
   "outputs": [
    {
     "data": {
      "text/html": [
       "<div>\n",
       "<style scoped>\n",
       "    .dataframe tbody tr th:only-of-type {\n",
       "        vertical-align: middle;\n",
       "    }\n",
       "\n",
       "    .dataframe tbody tr th {\n",
       "        vertical-align: top;\n",
       "    }\n",
       "\n",
       "    .dataframe thead th {\n",
       "        text-align: right;\n",
       "    }\n",
       "</style>\n",
       "<table border=\"1\" class=\"dataframe\">\n",
       "  <thead>\n",
       "    <tr style=\"text-align: right;\">\n",
       "      <th></th>\n",
       "      <th>RP11-34P13.3</th>\n",
       "      <th>FAM138A</th>\n",
       "      <th>OR4F5</th>\n",
       "      <th>RP11-34P13.7</th>\n",
       "      <th>RP11-34P13.8</th>\n",
       "      <th>RP11-34P13.14</th>\n",
       "      <th>RP11-34P13.9</th>\n",
       "      <th>FO538757.3</th>\n",
       "      <th>FO538757.2</th>\n",
       "      <th>AP006222.2</th>\n",
       "      <th>...</th>\n",
       "      <th>AC007325.2</th>\n",
       "      <th>BX072566.1</th>\n",
       "      <th>AL354822.1</th>\n",
       "      <th>AC023491.2</th>\n",
       "      <th>AC004556.1</th>\n",
       "      <th>AC233755.2</th>\n",
       "      <th>AC233755.1</th>\n",
       "      <th>AC240274.1</th>\n",
       "      <th>AC213203.1</th>\n",
       "      <th>FAM231B</th>\n",
       "    </tr>\n",
       "  </thead>\n",
       "  <tbody>\n",
       "    <tr>\n",
       "      <th>TTGAACGAGACTCGGA</th>\n",
       "      <td>0.0</td>\n",
       "      <td>0.0</td>\n",
       "      <td>0.0</td>\n",
       "      <td>0.0</td>\n",
       "      <td>0.0</td>\n",
       "      <td>0.0</td>\n",
       "      <td>0.0</td>\n",
       "      <td>0.0</td>\n",
       "      <td>0.651143</td>\n",
       "      <td>0.0</td>\n",
       "      <td>...</td>\n",
       "      <td>0.0</td>\n",
       "      <td>0.0</td>\n",
       "      <td>0.651143</td>\n",
       "      <td>0.0</td>\n",
       "      <td>0.000000</td>\n",
       "      <td>0.0</td>\n",
       "      <td>0.0</td>\n",
       "      <td>0.0</td>\n",
       "      <td>0.0</td>\n",
       "      <td>0.0</td>\n",
       "    </tr>\n",
       "    <tr>\n",
       "      <th>CGTTGGGGTGTTTGTG</th>\n",
       "      <td>0.0</td>\n",
       "      <td>0.0</td>\n",
       "      <td>0.0</td>\n",
       "      <td>0.0</td>\n",
       "      <td>0.0</td>\n",
       "      <td>0.0</td>\n",
       "      <td>0.0</td>\n",
       "      <td>0.0</td>\n",
       "      <td>1.444695</td>\n",
       "      <td>0.0</td>\n",
       "      <td>...</td>\n",
       "      <td>0.0</td>\n",
       "      <td>0.0</td>\n",
       "      <td>0.000000</td>\n",
       "      <td>0.0</td>\n",
       "      <td>0.000000</td>\n",
       "      <td>0.0</td>\n",
       "      <td>0.0</td>\n",
       "      <td>0.0</td>\n",
       "      <td>0.0</td>\n",
       "      <td>0.0</td>\n",
       "    </tr>\n",
       "    <tr>\n",
       "      <th>GAACCTAAGTGTTAGA</th>\n",
       "      <td>0.0</td>\n",
       "      <td>0.0</td>\n",
       "      <td>0.0</td>\n",
       "      <td>0.0</td>\n",
       "      <td>0.0</td>\n",
       "      <td>0.0</td>\n",
       "      <td>0.0</td>\n",
       "      <td>0.0</td>\n",
       "      <td>0.000000</td>\n",
       "      <td>0.0</td>\n",
       "      <td>...</td>\n",
       "      <td>0.0</td>\n",
       "      <td>0.0</td>\n",
       "      <td>0.000000</td>\n",
       "      <td>0.0</td>\n",
       "      <td>0.000000</td>\n",
       "      <td>0.0</td>\n",
       "      <td>0.0</td>\n",
       "      <td>0.0</td>\n",
       "      <td>0.0</td>\n",
       "      <td>0.0</td>\n",
       "    </tr>\n",
       "    <tr>\n",
       "      <th>CCTTCCCTCCGTCATC</th>\n",
       "      <td>0.0</td>\n",
       "      <td>0.0</td>\n",
       "      <td>0.0</td>\n",
       "      <td>0.0</td>\n",
       "      <td>0.0</td>\n",
       "      <td>0.0</td>\n",
       "      <td>0.0</td>\n",
       "      <td>0.0</td>\n",
       "      <td>0.000000</td>\n",
       "      <td>0.0</td>\n",
       "      <td>...</td>\n",
       "      <td>0.0</td>\n",
       "      <td>0.0</td>\n",
       "      <td>0.000000</td>\n",
       "      <td>0.0</td>\n",
       "      <td>0.892491</td>\n",
       "      <td>0.0</td>\n",
       "      <td>0.0</td>\n",
       "      <td>0.0</td>\n",
       "      <td>0.0</td>\n",
       "      <td>0.0</td>\n",
       "    </tr>\n",
       "    <tr>\n",
       "      <th>TCAATCTGTCTTTCAT</th>\n",
       "      <td>0.0</td>\n",
       "      <td>0.0</td>\n",
       "      <td>0.0</td>\n",
       "      <td>0.0</td>\n",
       "      <td>0.0</td>\n",
       "      <td>0.0</td>\n",
       "      <td>0.0</td>\n",
       "      <td>0.0</td>\n",
       "      <td>0.000000</td>\n",
       "      <td>0.0</td>\n",
       "      <td>...</td>\n",
       "      <td>0.0</td>\n",
       "      <td>0.0</td>\n",
       "      <td>0.402884</td>\n",
       "      <td>0.0</td>\n",
       "      <td>0.689272</td>\n",
       "      <td>0.0</td>\n",
       "      <td>0.0</td>\n",
       "      <td>0.0</td>\n",
       "      <td>0.0</td>\n",
       "      <td>0.0</td>\n",
       "    </tr>\n",
       "  </tbody>\n",
       "</table>\n",
       "<p>5 rows × 33694 columns</p>\n",
       "</div>"
      ],
      "text/plain": [
       "                  RP11-34P13.3  FAM138A  OR4F5  RP11-34P13.7  RP11-34P13.8   \n",
       "TTGAACGAGACTCGGA           0.0      0.0    0.0           0.0           0.0  \\\n",
       "CGTTGGGGTGTTTGTG           0.0      0.0    0.0           0.0           0.0   \n",
       "GAACCTAAGTGTTAGA           0.0      0.0    0.0           0.0           0.0   \n",
       "CCTTCCCTCCGTCATC           0.0      0.0    0.0           0.0           0.0   \n",
       "TCAATCTGTCTTTCAT           0.0      0.0    0.0           0.0           0.0   \n",
       "\n",
       "                  RP11-34P13.14  RP11-34P13.9  FO538757.3  FO538757.2   \n",
       "TTGAACGAGACTCGGA            0.0           0.0         0.0    0.651143  \\\n",
       "CGTTGGGGTGTTTGTG            0.0           0.0         0.0    1.444695   \n",
       "GAACCTAAGTGTTAGA            0.0           0.0         0.0    0.000000   \n",
       "CCTTCCCTCCGTCATC            0.0           0.0         0.0    0.000000   \n",
       "TCAATCTGTCTTTCAT            0.0           0.0         0.0    0.000000   \n",
       "\n",
       "                  AP006222.2  ...  AC007325.2  BX072566.1  AL354822.1   \n",
       "TTGAACGAGACTCGGA         0.0  ...         0.0         0.0    0.651143  \\\n",
       "CGTTGGGGTGTTTGTG         0.0  ...         0.0         0.0    0.000000   \n",
       "GAACCTAAGTGTTAGA         0.0  ...         0.0         0.0    0.000000   \n",
       "CCTTCCCTCCGTCATC         0.0  ...         0.0         0.0    0.000000   \n",
       "TCAATCTGTCTTTCAT         0.0  ...         0.0         0.0    0.402884   \n",
       "\n",
       "                  AC023491.2  AC004556.1  AC233755.2  AC233755.1  AC240274.1   \n",
       "TTGAACGAGACTCGGA         0.0    0.000000         0.0         0.0         0.0  \\\n",
       "CGTTGGGGTGTTTGTG         0.0    0.000000         0.0         0.0         0.0   \n",
       "GAACCTAAGTGTTAGA         0.0    0.000000         0.0         0.0         0.0   \n",
       "CCTTCCCTCCGTCATC         0.0    0.892491         0.0         0.0         0.0   \n",
       "TCAATCTGTCTTTCAT         0.0    0.689272         0.0         0.0         0.0   \n",
       "\n",
       "                  AC213203.1  FAM231B  \n",
       "TTGAACGAGACTCGGA         0.0      0.0  \n",
       "CGTTGGGGTGTTTGTG         0.0      0.0  \n",
       "GAACCTAAGTGTTAGA         0.0      0.0  \n",
       "CCTTCCCTCCGTCATC         0.0      0.0  \n",
       "TCAATCTGTCTTTCAT         0.0      0.0  \n",
       "\n",
       "[5 rows x 33694 columns]"
      ]
     },
     "execution_count": 4,
     "metadata": {},
     "output_type": "execute_result"
    }
   ],
   "source": [
    "df_norm = adata_norm.to_df()\n",
    "df_norm.head()"
   ]
  },
  {
   "cell_type": "code",
   "execution_count": 14,
   "metadata": {},
   "outputs": [
    {
     "data": {
      "text/plain": [
       "(111445, 2346)"
      ]
     },
     "execution_count": 14,
     "metadata": {},
     "output_type": "execute_result"
    }
   ],
   "source": [
    "gene2id_df = pd.read_csv(\"result/gene2id.csv\")\n",
    "gene_list = list(gene2id_df[\"gene\"])\n",
    "df_norm_filt1 = df_norm[gene_list]\n",
    "df_norm_filt1.shape"
   ]
  },
  {
   "cell_type": "code",
   "execution_count": 6,
   "metadata": {},
   "outputs": [],
   "source": [
    "gene2id_dict = dict(zip(list(gene2id_df[\"gene\"]), list(gene2id_df[\"id\"])))"
   ]
  },
  {
   "cell_type": "code",
   "execution_count": 28,
   "metadata": {},
   "outputs": [],
   "source": [
    "viab_norm = np.loadtxt(\"result/norman19_predict_viability.txt\")"
   ]
  },
  {
   "cell_type": "code",
   "execution_count": 30,
   "metadata": {},
   "outputs": [
    {
     "data": {
      "text/html": [
       "<div>\n",
       "<style scoped>\n",
       "    .dataframe tbody tr th:only-of-type {\n",
       "        vertical-align: middle;\n",
       "    }\n",
       "\n",
       "    .dataframe tbody tr th {\n",
       "        vertical-align: top;\n",
       "    }\n",
       "\n",
       "    .dataframe thead th {\n",
       "        text-align: right;\n",
       "    }\n",
       "</style>\n",
       "<table border=\"1\" class=\"dataframe\">\n",
       "  <thead>\n",
       "    <tr style=\"text-align: right;\">\n",
       "      <th></th>\n",
       "      <th>guide_id</th>\n",
       "      <th>perturbation</th>\n",
       "      <th>viability</th>\n",
       "    </tr>\n",
       "  </thead>\n",
       "  <tbody>\n",
       "    <tr>\n",
       "      <th>TTGAACGAGACTCGGA</th>\n",
       "      <td>ARID1A_NegCtrl0</td>\n",
       "      <td>ARID1A</td>\n",
       "      <td>-0.208360</td>\n",
       "    </tr>\n",
       "    <tr>\n",
       "      <th>CGTTGGGGTGTTTGTG</th>\n",
       "      <td>BCORL1_NegCtrl0</td>\n",
       "      <td>BCORL1</td>\n",
       "      <td>-0.294830</td>\n",
       "    </tr>\n",
       "    <tr>\n",
       "      <th>GAACCTAAGTGTTAGA</th>\n",
       "      <td>FOSB_NegCtrl0</td>\n",
       "      <td>FOSB</td>\n",
       "      <td>0.135545</td>\n",
       "    </tr>\n",
       "    <tr>\n",
       "      <th>CCTTCCCTCCGTCATC</th>\n",
       "      <td>SET_KLF1</td>\n",
       "      <td>SET_KLF1</td>\n",
       "      <td>-0.317036</td>\n",
       "    </tr>\n",
       "    <tr>\n",
       "      <th>TCAATCTGTCTTTCAT</th>\n",
       "      <td>OSR2_NegCtrl0</td>\n",
       "      <td>OSR2</td>\n",
       "      <td>-0.131222</td>\n",
       "    </tr>\n",
       "  </tbody>\n",
       "</table>\n",
       "</div>"
      ],
      "text/plain": [
       "                         guide_id perturbation  viability\n",
       "TTGAACGAGACTCGGA  ARID1A_NegCtrl0       ARID1A  -0.208360\n",
       "CGTTGGGGTGTTTGTG  BCORL1_NegCtrl0       BCORL1  -0.294830\n",
       "GAACCTAAGTGTTAGA    FOSB_NegCtrl0         FOSB   0.135545\n",
       "CCTTCCCTCCGTCATC         SET_KLF1     SET_KLF1  -0.317036\n",
       "TCAATCTGTCTTTCAT    OSR2_NegCtrl0         OSR2  -0.131222"
      ]
     },
     "execution_count": 30,
     "metadata": {},
     "output_type": "execute_result"
    }
   ],
   "source": [
    "df_perturb = pd.DataFrame({\"guide_id\":adata_norm.obs[\"guide_id\"].to_list(), \"perturbation\":adata_norm.obs[\"perturbation\"].to_list(), \"viability\":viab_norm})\n",
    "df_perturb[\"guide_id\"] = [x.split(\";\")[0] for x in df_perturb[\"guide_id\"]]\n",
    "df_perturb.index = df_norm.index\n",
    "df_perturb.head()"
   ]
  },
  {
   "cell_type": "code",
   "execution_count": 31,
   "metadata": {},
   "outputs": [],
   "source": [
    "df_perturb = df_perturb.loc[df_perturb[\"guide_id\"] != \"NegCtrl1_NegCtrl0;NegCtrl1_NegCtrl0\"]"
   ]
  },
  {
   "cell_type": "code",
   "execution_count": 32,
   "metadata": {},
   "outputs": [],
   "source": [
    "perturb_idx = np.zeros((df_perturb.shape[0],2), dtype=int)\n",
    "for i, p in enumerate(list(df_perturb[\"perturbation\"])):\n",
    "    perturb_split = p.split('_')\n",
    "    if len(perturb_split) == 1:\n",
    "        if perturb_split[0] in gene_list:\n",
    "            perturb_idx[i][0] = gene2id_dict[perturb_split[0]]\n",
    "            perturb_idx[i][1] = -1\n",
    "        else:\n",
    "            if perturb_split[0] == \"control\":\n",
    "                perturb_idx[i][0] = perturb_idx[i][1] = -1\n",
    "            else:\n",
    "                perturb_idx[i][0] = perturb_idx[i][1] = -2\n",
    "    else:\n",
    "        if perturb_split[0] in gene_list and perturb_split[1] in gene_list:\n",
    "            perturb_idx[i][0] = gene2id_dict[perturb_split[0]]\n",
    "            perturb_idx[i][1] = gene2id_dict[perturb_split[1]]\n",
    "        else:\n",
    "            perturb_idx[i][0] = perturb_idx[i][1] = -2"
   ]
  },
  {
   "cell_type": "code",
   "execution_count": 33,
   "metadata": {},
   "outputs": [
    {
     "data": {
      "text/html": [
       "<div>\n",
       "<style scoped>\n",
       "    .dataframe tbody tr th:only-of-type {\n",
       "        vertical-align: middle;\n",
       "    }\n",
       "\n",
       "    .dataframe tbody tr th {\n",
       "        vertical-align: top;\n",
       "    }\n",
       "\n",
       "    .dataframe thead th {\n",
       "        text-align: right;\n",
       "    }\n",
       "</style>\n",
       "<table border=\"1\" class=\"dataframe\">\n",
       "  <thead>\n",
       "    <tr style=\"text-align: right;\">\n",
       "      <th></th>\n",
       "      <th>guide_id</th>\n",
       "      <th>perturbation</th>\n",
       "      <th>viability</th>\n",
       "      <th>pert_1</th>\n",
       "      <th>pert_2</th>\n",
       "    </tr>\n",
       "  </thead>\n",
       "  <tbody>\n",
       "    <tr>\n",
       "      <th>TTGAACGAGACTCGGA</th>\n",
       "      <td>ARID1A_NegCtrl0</td>\n",
       "      <td>ARID1A</td>\n",
       "      <td>-0.208360</td>\n",
       "      <td>1129</td>\n",
       "      <td>-1</td>\n",
       "    </tr>\n",
       "    <tr>\n",
       "      <th>CGTTGGGGTGTTTGTG</th>\n",
       "      <td>BCORL1_NegCtrl0</td>\n",
       "      <td>BCORL1</td>\n",
       "      <td>-0.294830</td>\n",
       "      <td>2246</td>\n",
       "      <td>-1</td>\n",
       "    </tr>\n",
       "    <tr>\n",
       "      <th>GAACCTAAGTGTTAGA</th>\n",
       "      <td>FOSB_NegCtrl0</td>\n",
       "      <td>FOSB</td>\n",
       "      <td>0.135545</td>\n",
       "      <td>1689</td>\n",
       "      <td>-1</td>\n",
       "    </tr>\n",
       "    <tr>\n",
       "      <th>CCTTCCCTCCGTCATC</th>\n",
       "      <td>SET_KLF1</td>\n",
       "      <td>SET_KLF1</td>\n",
       "      <td>-0.317036</td>\n",
       "      <td>1656</td>\n",
       "      <td>1010</td>\n",
       "    </tr>\n",
       "    <tr>\n",
       "      <th>TCAATCTGTCTTTCAT</th>\n",
       "      <td>OSR2_NegCtrl0</td>\n",
       "      <td>OSR2</td>\n",
       "      <td>-0.131222</td>\n",
       "      <td>207</td>\n",
       "      <td>-1</td>\n",
       "    </tr>\n",
       "  </tbody>\n",
       "</table>\n",
       "</div>"
      ],
      "text/plain": [
       "                         guide_id perturbation  viability  pert_1  pert_2\n",
       "TTGAACGAGACTCGGA  ARID1A_NegCtrl0       ARID1A  -0.208360    1129      -1\n",
       "CGTTGGGGTGTTTGTG  BCORL1_NegCtrl0       BCORL1  -0.294830    2246      -1\n",
       "GAACCTAAGTGTTAGA    FOSB_NegCtrl0         FOSB   0.135545    1689      -1\n",
       "CCTTCCCTCCGTCATC         SET_KLF1     SET_KLF1  -0.317036    1656    1010\n",
       "TCAATCTGTCTTTCAT    OSR2_NegCtrl0         OSR2  -0.131222     207      -1"
      ]
     },
     "execution_count": 33,
     "metadata": {},
     "output_type": "execute_result"
    }
   ],
   "source": [
    "df_perturb[\"pert_1\"] = perturb_idx[:,0]\n",
    "df_perturb[\"pert_2\"] = perturb_idx[:,1]\n",
    "df_perturb = df_perturb.loc[df_perturb[\"pert_1\"]!=-2]\n",
    "df_perturb.head()"
   ]
  },
  {
   "cell_type": "code",
   "execution_count": 34,
   "metadata": {},
   "outputs": [
    {
     "name": "stdout",
     "output_type": "stream",
     "text": [
      "(105821, 5)\n"
     ]
    }
   ],
   "source": [
    "print(df_perturb.shape)\n",
    "#prev: (111445, 4)"
   ]
  },
  {
   "cell_type": "code",
   "execution_count": 40,
   "metadata": {},
   "outputs": [
    {
     "name": "stdout",
     "output_type": "stream",
     "text": [
      "(105821, 2351)\n"
     ]
    }
   ],
   "source": [
    "df_norm_filt2 = df_norm_filt1.loc[df_perturb.index]\n",
    "df_merged = df_perturb.join(df_norm_filt2)\n",
    "print(df_merged.shape)"
   ]
  },
  {
   "cell_type": "code",
   "execution_count": 42,
   "metadata": {},
   "outputs": [
    {
     "data": {
      "text/html": [
       "<div>\n",
       "<style scoped>\n",
       "    .dataframe tbody tr th:only-of-type {\n",
       "        vertical-align: middle;\n",
       "    }\n",
       "\n",
       "    .dataframe tbody tr th {\n",
       "        vertical-align: top;\n",
       "    }\n",
       "\n",
       "    .dataframe thead th {\n",
       "        text-align: right;\n",
       "    }\n",
       "</style>\n",
       "<table border=\"1\" class=\"dataframe\">\n",
       "  <thead>\n",
       "    <tr style=\"text-align: right;\">\n",
       "      <th></th>\n",
       "      <th>guide_id</th>\n",
       "      <th>perturbation</th>\n",
       "      <th>viability</th>\n",
       "      <th>pert_1</th>\n",
       "      <th>pert_2</th>\n",
       "      <th>GRIN3A</th>\n",
       "      <th>FREM3</th>\n",
       "      <th>DUSP5</th>\n",
       "      <th>CYBA</th>\n",
       "      <th>BACE2</th>\n",
       "      <th>...</th>\n",
       "      <th>WNT9A</th>\n",
       "      <th>RAB13</th>\n",
       "      <th>TARM1</th>\n",
       "      <th>RSAD2</th>\n",
       "      <th>TRPM5</th>\n",
       "      <th>BNIP3L</th>\n",
       "      <th>NCKAP5</th>\n",
       "      <th>CCR1</th>\n",
       "      <th>CMTM5</th>\n",
       "      <th>CCDC96</th>\n",
       "    </tr>\n",
       "  </thead>\n",
       "  <tbody>\n",
       "    <tr>\n",
       "      <th>TTGAACGAGACTCGGA</th>\n",
       "      <td>ARID1A_NegCtrl0</td>\n",
       "      <td>ARID1A</td>\n",
       "      <td>-0.208360</td>\n",
       "      <td>1129</td>\n",
       "      <td>-1</td>\n",
       "      <td>0.0</td>\n",
       "      <td>0.0</td>\n",
       "      <td>0.0</td>\n",
       "      <td>0.651143</td>\n",
       "      <td>0.0</td>\n",
       "      <td>...</td>\n",
       "      <td>0.0</td>\n",
       "      <td>0.000000</td>\n",
       "      <td>0.0</td>\n",
       "      <td>0.0</td>\n",
       "      <td>0.0</td>\n",
       "      <td>1.042206</td>\n",
       "      <td>0.0</td>\n",
       "      <td>0.0</td>\n",
       "      <td>0.0</td>\n",
       "      <td>0.0</td>\n",
       "    </tr>\n",
       "    <tr>\n",
       "      <th>CGTTGGGGTGTTTGTG</th>\n",
       "      <td>BCORL1_NegCtrl0</td>\n",
       "      <td>BCORL1</td>\n",
       "      <td>-0.294830</td>\n",
       "      <td>2246</td>\n",
       "      <td>-1</td>\n",
       "      <td>0.0</td>\n",
       "      <td>0.0</td>\n",
       "      <td>0.0</td>\n",
       "      <td>1.444695</td>\n",
       "      <td>0.0</td>\n",
       "      <td>...</td>\n",
       "      <td>0.0</td>\n",
       "      <td>0.000000</td>\n",
       "      <td>0.0</td>\n",
       "      <td>0.0</td>\n",
       "      <td>0.0</td>\n",
       "      <td>0.963281</td>\n",
       "      <td>0.0</td>\n",
       "      <td>0.0</td>\n",
       "      <td>0.0</td>\n",
       "      <td>0.0</td>\n",
       "    </tr>\n",
       "    <tr>\n",
       "      <th>GAACCTAAGTGTTAGA</th>\n",
       "      <td>FOSB_NegCtrl0</td>\n",
       "      <td>FOSB</td>\n",
       "      <td>0.135545</td>\n",
       "      <td>1689</td>\n",
       "      <td>-1</td>\n",
       "      <td>0.0</td>\n",
       "      <td>0.0</td>\n",
       "      <td>0.0</td>\n",
       "      <td>1.258268</td>\n",
       "      <td>0.0</td>\n",
       "      <td>...</td>\n",
       "      <td>0.0</td>\n",
       "      <td>0.000000</td>\n",
       "      <td>0.0</td>\n",
       "      <td>0.0</td>\n",
       "      <td>0.0</td>\n",
       "      <td>1.798179</td>\n",
       "      <td>0.0</td>\n",
       "      <td>0.0</td>\n",
       "      <td>0.0</td>\n",
       "      <td>0.0</td>\n",
       "    </tr>\n",
       "    <tr>\n",
       "      <th>CCTTCCCTCCGTCATC</th>\n",
       "      <td>SET_KLF1</td>\n",
       "      <td>SET_KLF1</td>\n",
       "      <td>-0.317036</td>\n",
       "      <td>1656</td>\n",
       "      <td>1010</td>\n",
       "      <td>0.0</td>\n",
       "      <td>0.0</td>\n",
       "      <td>0.0</td>\n",
       "      <td>0.307706</td>\n",
       "      <td>0.0</td>\n",
       "      <td>...</td>\n",
       "      <td>0.0</td>\n",
       "      <td>0.000000</td>\n",
       "      <td>0.0</td>\n",
       "      <td>0.0</td>\n",
       "      <td>0.0</td>\n",
       "      <td>1.526710</td>\n",
       "      <td>0.0</td>\n",
       "      <td>0.0</td>\n",
       "      <td>0.0</td>\n",
       "      <td>0.0</td>\n",
       "    </tr>\n",
       "    <tr>\n",
       "      <th>TCAATCTGTCTTTCAT</th>\n",
       "      <td>OSR2_NegCtrl0</td>\n",
       "      <td>OSR2</td>\n",
       "      <td>-0.131222</td>\n",
       "      <td>207</td>\n",
       "      <td>-1</td>\n",
       "      <td>0.0</td>\n",
       "      <td>0.0</td>\n",
       "      <td>0.0</td>\n",
       "      <td>1.698400</td>\n",
       "      <td>0.0</td>\n",
       "      <td>...</td>\n",
       "      <td>0.0</td>\n",
       "      <td>0.402884</td>\n",
       "      <td>0.0</td>\n",
       "      <td>0.0</td>\n",
       "      <td>0.0</td>\n",
       "      <td>0.689272</td>\n",
       "      <td>0.0</td>\n",
       "      <td>0.0</td>\n",
       "      <td>0.0</td>\n",
       "      <td>0.0</td>\n",
       "    </tr>\n",
       "  </tbody>\n",
       "</table>\n",
       "<p>5 rows × 2351 columns</p>\n",
       "</div>"
      ],
      "text/plain": [
       "                         guide_id perturbation  viability  pert_1  pert_2   \n",
       "TTGAACGAGACTCGGA  ARID1A_NegCtrl0       ARID1A  -0.208360    1129      -1  \\\n",
       "CGTTGGGGTGTTTGTG  BCORL1_NegCtrl0       BCORL1  -0.294830    2246      -1   \n",
       "GAACCTAAGTGTTAGA    FOSB_NegCtrl0         FOSB   0.135545    1689      -1   \n",
       "CCTTCCCTCCGTCATC         SET_KLF1     SET_KLF1  -0.317036    1656    1010   \n",
       "TCAATCTGTCTTTCAT    OSR2_NegCtrl0         OSR2  -0.131222     207      -1   \n",
       "\n",
       "                  GRIN3A  FREM3  DUSP5      CYBA  BACE2  ...  WNT9A     RAB13   \n",
       "TTGAACGAGACTCGGA     0.0    0.0    0.0  0.651143    0.0  ...    0.0  0.000000  \\\n",
       "CGTTGGGGTGTTTGTG     0.0    0.0    0.0  1.444695    0.0  ...    0.0  0.000000   \n",
       "GAACCTAAGTGTTAGA     0.0    0.0    0.0  1.258268    0.0  ...    0.0  0.000000   \n",
       "CCTTCCCTCCGTCATC     0.0    0.0    0.0  0.307706    0.0  ...    0.0  0.000000   \n",
       "TCAATCTGTCTTTCAT     0.0    0.0    0.0  1.698400    0.0  ...    0.0  0.402884   \n",
       "\n",
       "                  TARM1  RSAD2  TRPM5    BNIP3L  NCKAP5  CCR1  CMTM5  CCDC96  \n",
       "TTGAACGAGACTCGGA    0.0    0.0    0.0  1.042206     0.0   0.0    0.0     0.0  \n",
       "CGTTGGGGTGTTTGTG    0.0    0.0    0.0  0.963281     0.0   0.0    0.0     0.0  \n",
       "GAACCTAAGTGTTAGA    0.0    0.0    0.0  1.798179     0.0   0.0    0.0     0.0  \n",
       "CCTTCCCTCCGTCATC    0.0    0.0    0.0  1.526710     0.0   0.0    0.0     0.0  \n",
       "TCAATCTGTCTTTCAT    0.0    0.0    0.0  0.689272     0.0   0.0    0.0     0.0  \n",
       "\n",
       "[5 rows x 2351 columns]"
      ]
     },
     "execution_count": 42,
     "metadata": {},
     "output_type": "execute_result"
    }
   ],
   "source": [
    "df_merged.to_csv(\"./result/norm_input.csv\")\n",
    "df_merged.head()"
   ]
  },
  {
   "attachments": {},
   "cell_type": "markdown",
   "metadata": {},
   "source": [
    "split dataset"
   ]
  },
  {
   "cell_type": "code",
   "execution_count": 2,
   "metadata": {},
   "outputs": [],
   "source": [
    "df_merged = pd.read_csv(\"./result/norm_input.csv\")"
   ]
  },
  {
   "cell_type": "code",
   "execution_count": 3,
   "metadata": {},
   "outputs": [],
   "source": [
    "df_merged = df_merged.drop(labels=['guide_id','perturbation'], axis=1)"
   ]
  },
  {
   "cell_type": "code",
   "execution_count": 9,
   "metadata": {},
   "outputs": [
    {
     "data": {
      "text/plain": [
       "38891"
      ]
     },
     "execution_count": 9,
     "metadata": {},
     "output_type": "execute_result"
    }
   ],
   "source": [
    "df_double_pert = df_merged.loc[df_merged[\"pert_2\"]!=-1]\n",
    "len(df_double_pert)"
   ]
  },
  {
   "cell_type": "code",
   "execution_count": 10,
   "metadata": {},
   "outputs": [],
   "source": [
    "input_np_double = df_double_pert.to_numpy()\n",
    "input_np_double = input_np_double[:, 1:]\n",
    "input_np_double = input_np_double.astype(np.float32)\n",
    "np.save(\"result/norm_input_double.npy\", input_np_double)"
   ]
  },
  {
   "cell_type": "code",
   "execution_count": 18,
   "metadata": {},
   "outputs": [
    {
     "data": {
      "text/plain": [
       "array([[-3.1703648e-01,  1.6560000e+03,  1.0100000e+03],\n",
       "       [-1.5707095e-01,  1.0100000e+03,  2.0520000e+03],\n",
       "       [-7.4525185e-02,  9.3700000e+02,  1.6730000e+03],\n",
       "       [-4.8650980e-02,  1.9420000e+03,  1.6560000e+03],\n",
       "       [-2.8390670e-01,  1.9360000e+03,  9.9200000e+02]], dtype=float32)"
      ]
     },
     "execution_count": 18,
     "metadata": {},
     "output_type": "execute_result"
    }
   ],
   "source": [
    "np_double_viab = input_np_double[:,0:3]\n",
    "np_double_viab[:5][:5]"
   ]
  },
  {
   "cell_type": "code",
   "execution_count": 19,
   "metadata": {},
   "outputs": [],
   "source": [
    "np.save(\"result/norm_label_double.npy\", np_double_viab)"
   ]
  },
  {
   "cell_type": "code",
   "execution_count": 4,
   "metadata": {},
   "outputs": [
    {
     "name": "stdout",
     "output_type": "stream",
     "text": [
      "55075 11855\n"
     ]
    }
   ],
   "source": [
    "df_single_ctrl = df_merged.loc[df_merged[\"pert_2\"]==-1]\n",
    "df_single_pert = df_single_ctrl[df_single_ctrl[\"pert_1\"]!=-1]\n",
    "df_ctrl = df_single_ctrl[df_single_ctrl[\"pert_1\"]==-1]\n",
    "print(len(df_single_pert), len(df_ctrl))"
   ]
  },
  {
   "cell_type": "code",
   "execution_count": 6,
   "metadata": {},
   "outputs": [],
   "source": [
    "input_np_single = df_single_pert.to_numpy()\n",
    "input_np_single = input_np_single[:, 1:]\n",
    "input_np_single = input_np_single.astype(np.float32)\n",
    "np.save(\"result/norm_input_single.npy\", input_np_single)"
   ]
  },
  {
   "cell_type": "code",
   "execution_count": 7,
   "metadata": {},
   "outputs": [],
   "source": [
    "np_single_viab = input_np_single[:,0:3]\n",
    "np.save(\"result/norm_label_single.npy\", np_single_viab)"
   ]
  },
  {
   "cell_type": "code",
   "execution_count": 8,
   "metadata": {},
   "outputs": [],
   "source": [
    "input_np_ctrl = df_ctrl.to_numpy()\n",
    "input_np_ctrl = input_np_ctrl[:, 1:]\n",
    "input_np_ctrl = input_np_ctrl.astype(np.float32)\n",
    "np.save(\"result/norm_input_ctrl.npy\", input_np_ctrl)"
   ]
  }
 ],
 "metadata": {
  "kernelspec": {
   "display_name": "bioinformatics",
   "language": "python",
   "name": "python3"
  },
  "language_info": {
   "codemirror_mode": {
    "name": "ipython",
    "version": 3
   },
   "file_extension": ".py",
   "mimetype": "text/x-python",
   "name": "python",
   "nbconvert_exporter": "python",
   "pygments_lexer": "ipython3",
   "version": "3.9.16"
  },
  "orig_nbformat": 4
 },
 "nbformat": 4,
 "nbformat_minor": 2
}
