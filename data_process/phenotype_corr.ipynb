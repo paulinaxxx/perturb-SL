{
 "cells": [
  {
   "cell_type": "code",
   "execution_count": 1,
   "metadata": {},
   "outputs": [],
   "source": [
    "import scanpy as sc\n",
    "import pandas as pd\n",
    "import numpy as np"
   ]
  },
  {
   "attachments": {},
   "cell_type": "markdown",
   "metadata": {},
   "source": [
    "#### Norman19"
   ]
  },
  {
   "cell_type": "code",
   "execution_count": 2,
   "metadata": {},
   "outputs": [
    {
     "data": {
      "text/plain": [
       "AnnData object with n_obs × n_vars = 111445 × 33694\n",
       "    obs: 'guide_id', 'read_count', 'UMI_count', 'coverage', 'gemgroup', 'good_coverage', 'number_of_cells', 'tissue_type', 'cell_line', 'cancer', 'disease', 'perturbation_type', 'celltype', 'organism', 'perturbation', 'nperts', 'ngenes', 'ncounts', 'percent_mito', 'percent_ribo', 'viability'\n",
       "    var: 'ensemble_id', 'ncounts', 'ncells'\n",
       "    uns: 'log1p'"
      ]
     },
     "execution_count": 2,
     "metadata": {},
     "output_type": "execute_result"
    }
   ],
   "source": [
    "adata = sc.read_h5ad(\"result/norman19_viability.h5ad\")\n",
    "adata"
   ]
  },
  {
   "cell_type": "code",
   "execution_count": 3,
   "metadata": {},
   "outputs": [
    {
     "name": "stdout",
     "output_type": "stream",
     "text": [
      "['ARID1A', 'BCORL1', 'FOSB', 'SET_KLF1', 'OSR2', 'KLF1_BAK1', 'FOXA3_FOXL2', 'TP73', 'HES7', 'IRF1_SET']\n",
      "['ARID1A_NegCtrl0;ARID1A_NegCtrl0', 'BCORL1_NegCtrl0;BCORL1_NegCtrl0', 'FOSB_NegCtrl0;FOSB_NegCtrl0', 'SET_KLF1;SET_KLF1', 'OSR2_NegCtrl0;OSR2_NegCtrl0', 'KLF1_BAK1;KLF1_BAK1', 'FOXA3_FOXL2;FOXA3_FOXL2', 'TP73_NegCtrl0;TP73_NegCtrl0', 'HES7_NegCtrl0;HES7_NegCtrl0', 'IRF1_SET;IRF1_SET']\n"
     ]
    }
   ],
   "source": [
    "print(adata.obs[\"perturbation\"].to_list()[:10])\n",
    "print(adata.obs[\"guide_id\"].to_list()[:10])"
   ]
  },
  {
   "cell_type": "code",
   "execution_count": 4,
   "metadata": {},
   "outputs": [
    {
     "data": {
      "text/html": [
       "<div>\n",
       "<style scoped>\n",
       "    .dataframe tbody tr th:only-of-type {\n",
       "        vertical-align: middle;\n",
       "    }\n",
       "\n",
       "    .dataframe tbody tr th {\n",
       "        vertical-align: top;\n",
       "    }\n",
       "\n",
       "    .dataframe thead th {\n",
       "        text-align: right;\n",
       "    }\n",
       "</style>\n",
       "<table border=\"1\" class=\"dataframe\">\n",
       "  <thead>\n",
       "    <tr style=\"text-align: right;\">\n",
       "      <th></th>\n",
       "      <th>guide_id</th>\n",
       "      <th>perturbation</th>\n",
       "      <th>viability</th>\n",
       "    </tr>\n",
       "  </thead>\n",
       "  <tbody>\n",
       "    <tr>\n",
       "      <th>TTGAACGAGACTCGGA</th>\n",
       "      <td>ARID1A_NegCtrl0;ARID1A_NegCtrl0</td>\n",
       "      <td>ARID1A</td>\n",
       "      <td>-0.208360</td>\n",
       "    </tr>\n",
       "    <tr>\n",
       "      <th>CGTTGGGGTGTTTGTG</th>\n",
       "      <td>BCORL1_NegCtrl0;BCORL1_NegCtrl0</td>\n",
       "      <td>BCORL1</td>\n",
       "      <td>-0.294830</td>\n",
       "    </tr>\n",
       "    <tr>\n",
       "      <th>GAACCTAAGTGTTAGA</th>\n",
       "      <td>FOSB_NegCtrl0;FOSB_NegCtrl0</td>\n",
       "      <td>FOSB</td>\n",
       "      <td>0.135545</td>\n",
       "    </tr>\n",
       "    <tr>\n",
       "      <th>CCTTCCCTCCGTCATC</th>\n",
       "      <td>SET_KLF1;SET_KLF1</td>\n",
       "      <td>SET_KLF1</td>\n",
       "      <td>-0.317036</td>\n",
       "    </tr>\n",
       "    <tr>\n",
       "      <th>TCAATCTGTCTTTCAT</th>\n",
       "      <td>OSR2_NegCtrl0;OSR2_NegCtrl0</td>\n",
       "      <td>OSR2</td>\n",
       "      <td>-0.131222</td>\n",
       "    </tr>\n",
       "  </tbody>\n",
       "</table>\n",
       "</div>"
      ],
      "text/plain": [
       "                                         guide_id perturbation  viability\n",
       "TTGAACGAGACTCGGA  ARID1A_NegCtrl0;ARID1A_NegCtrl0       ARID1A  -0.208360\n",
       "CGTTGGGGTGTTTGTG  BCORL1_NegCtrl0;BCORL1_NegCtrl0       BCORL1  -0.294830\n",
       "GAACCTAAGTGTTAGA      FOSB_NegCtrl0;FOSB_NegCtrl0         FOSB   0.135545\n",
       "CCTTCCCTCCGTCATC                SET_KLF1;SET_KLF1     SET_KLF1  -0.317036\n",
       "TCAATCTGTCTTTCAT      OSR2_NegCtrl0;OSR2_NegCtrl0         OSR2  -0.131222"
      ]
     },
     "execution_count": 4,
     "metadata": {},
     "output_type": "execute_result"
    }
   ],
   "source": [
    "df_perturb_viab = pd.DataFrame({\"guide_id\":adata.obs[\"guide_id\"].to_list(), \"perturbation\":adata.obs[\"perturbation\"].to_list(), \"viability\":adata.obs[\"viability\"]})\n",
    "df_perturb_viab.head()"
   ]
  },
  {
   "cell_type": "code",
   "execution_count": 5,
   "metadata": {},
   "outputs": [
    {
     "name": "stdout",
     "output_type": "stream",
     "text": [
      "(111445, 3)\n"
     ]
    }
   ],
   "source": [
    "print(df_perturb_viab.shape)"
   ]
  },
  {
   "cell_type": "code",
   "execution_count": 7,
   "metadata": {},
   "outputs": [
    {
     "name": "stdout",
     "output_type": "stream",
     "text": [
      "(108497, 3)\n"
     ]
    }
   ],
   "source": [
    "df_perturb_viab = df_perturb_viab.loc[df_perturb_viab[\"guide_id\"] != \"NegCtrl1_NegCtrl0;NegCtrl1_NegCtrl0\"]\n",
    "print(df_perturb_viab.shape)"
   ]
  },
  {
   "cell_type": "code",
   "execution_count": 10,
   "metadata": {},
   "outputs": [
    {
     "name": "stdout",
     "output_type": "stream",
     "text": [
      "TTGAACGAGACTCGGA    ARID1A_NegCtrl0\n",
      "CGTTGGGGTGTTTGTG    BCORL1_NegCtrl0\n",
      "GAACCTAAGTGTTAGA      FOSB_NegCtrl0\n",
      "CCTTCCCTCCGTCATC           SET_KLF1\n",
      "TCAATCTGTCTTTCAT      OSR2_NegCtrl0\n",
      "Name: guide_id, dtype: object\n"
     ]
    }
   ],
   "source": [
    "df_perturb_viab[\"guide_id\"] = [x.split(\";\")[0] for x in df_perturb_viab[\"guide_id\"]]\n",
    "print(df_perturb_viab[\"guide_id\"][:5])"
   ]
  },
  {
   "cell_type": "code",
   "execution_count": 13,
   "metadata": {},
   "outputs": [
    {
     "data": {
      "text/html": [
       "<div>\n",
       "<style scoped>\n",
       "    .dataframe tbody tr th:only-of-type {\n",
       "        vertical-align: middle;\n",
       "    }\n",
       "\n",
       "    .dataframe tbody tr th {\n",
       "        vertical-align: top;\n",
       "    }\n",
       "\n",
       "    .dataframe thead th {\n",
       "        text-align: right;\n",
       "    }\n",
       "</style>\n",
       "<table border=\"1\" class=\"dataframe\">\n",
       "  <thead>\n",
       "    <tr style=\"text-align: right;\">\n",
       "      <th></th>\n",
       "      <th>Unnamed: 0</th>\n",
       "      <th>barcode sequencing</th>\n",
       "      <th>Unnamed: 2</th>\n",
       "      <th>Unnamed: 3</th>\n",
       "      <th>Unnamed: 4</th>\n",
       "      <th>sgRNA sequencing</th>\n",
       "      <th>Unnamed: 6</th>\n",
       "      <th>Unnamed: 7</th>\n",
       "      <th>Unnamed: 8</th>\n",
       "      <th>triple sequencing</th>\n",
       "      <th>Unnamed: 10</th>\n",
       "      <th>Unnamed: 11</th>\n",
       "      <th>Unnamed: 12</th>\n",
       "      <th>triple sequencing.1</th>\n",
       "      <th>Unnamed: 14</th>\n",
       "      <th>Unnamed: 15</th>\n",
       "    </tr>\n",
       "  </thead>\n",
       "  <tbody>\n",
       "    <tr>\n",
       "      <th>0</th>\n",
       "      <td>NaN</td>\n",
       "      <td>endpoint</td>\n",
       "      <td>endpoint</td>\n",
       "      <td>T0</td>\n",
       "      <td>T0</td>\n",
       "      <td>endpoint</td>\n",
       "      <td>endpoint</td>\n",
       "      <td>T0</td>\n",
       "      <td>T0</td>\n",
       "      <td>endpoint</td>\n",
       "      <td>endpoint</td>\n",
       "      <td>T0</td>\n",
       "      <td>T0</td>\n",
       "      <td>phenotype</td>\n",
       "      <td>phenotype</td>\n",
       "      <td>phenotype</td>\n",
       "    </tr>\n",
       "    <tr>\n",
       "      <th>1</th>\n",
       "      <td>NaN</td>\n",
       "      <td>Rep1</td>\n",
       "      <td>Rep2</td>\n",
       "      <td>Rep1</td>\n",
       "      <td>Rep2</td>\n",
       "      <td>Rep1</td>\n",
       "      <td>Rep2</td>\n",
       "      <td>Rep1</td>\n",
       "      <td>Rep2</td>\n",
       "      <td>Rep1</td>\n",
       "      <td>Rep2</td>\n",
       "      <td>Rep1</td>\n",
       "      <td>Rep2</td>\n",
       "      <td>Rep1</td>\n",
       "      <td>Rep2</td>\n",
       "      <td>Replicate average</td>\n",
       "    </tr>\n",
       "    <tr>\n",
       "      <th>2</th>\n",
       "      <td>AHR_-_17338164.23-P1P2++AHR_-_17338164.23-P1P2</td>\n",
       "      <td>90</td>\n",
       "      <td>42</td>\n",
       "      <td>367</td>\n",
       "      <td>433</td>\n",
       "      <td>56</td>\n",
       "      <td>29</td>\n",
       "      <td>372</td>\n",
       "      <td>487</td>\n",
       "      <td>37</td>\n",
       "      <td>21</td>\n",
       "      <td>229</td>\n",
       "      <td>305</td>\n",
       "      <td>-0.470701</td>\n",
       "      <td>-0.532444</td>\n",
       "      <td>-0.501573</td>\n",
       "    </tr>\n",
       "    <tr>\n",
       "      <th>3</th>\n",
       "      <td>AHR_-_17338164.23-P1P2++AHR_-_17338168.23-P1P2</td>\n",
       "      <td>230</td>\n",
       "      <td>164</td>\n",
       "      <td>598</td>\n",
       "      <td>619</td>\n",
       "      <td>293</td>\n",
       "      <td>167</td>\n",
       "      <td>804</td>\n",
       "      <td>846</td>\n",
       "      <td>215</td>\n",
       "      <td>87</td>\n",
       "      <td>524</td>\n",
       "      <td>519</td>\n",
       "      <td>-0.334627</td>\n",
       "      <td>-0.424563</td>\n",
       "      <td>-0.379595</td>\n",
       "    </tr>\n",
       "    <tr>\n",
       "      <th>4</th>\n",
       "      <td>AHR_-_17338164.23-P1P2++ARID1A_+_27022167.23-P1P2</td>\n",
       "      <td>88</td>\n",
       "      <td>120</td>\n",
       "      <td>430</td>\n",
       "      <td>581</td>\n",
       "      <td>64</td>\n",
       "      <td>109</td>\n",
       "      <td>481</td>\n",
       "      <td>683</td>\n",
       "      <td>48</td>\n",
       "      <td>60</td>\n",
       "      <td>300</td>\n",
       "      <td>420</td>\n",
       "      <td>-0.479597</td>\n",
       "      <td>-0.445195</td>\n",
       "      <td>-0.462396</td>\n",
       "    </tr>\n",
       "  </tbody>\n",
       "</table>\n",
       "</div>"
      ],
      "text/plain": [
       "                                          Unnamed: 0 barcode sequencing  \\\n",
       "0                                                NaN           endpoint   \n",
       "1                                                NaN               Rep1   \n",
       "2     AHR_-_17338164.23-P1P2++AHR_-_17338164.23-P1P2                 90   \n",
       "3     AHR_-_17338164.23-P1P2++AHR_-_17338168.23-P1P2                230   \n",
       "4  AHR_-_17338164.23-P1P2++ARID1A_+_27022167.23-P1P2                 88   \n",
       "\n",
       "  Unnamed: 2 Unnamed: 3 Unnamed: 4 sgRNA sequencing Unnamed: 6 Unnamed: 7  \\\n",
       "0   endpoint         T0         T0         endpoint   endpoint         T0   \n",
       "1       Rep2       Rep1       Rep2             Rep1       Rep2       Rep1   \n",
       "2         42        367        433               56         29        372   \n",
       "3        164        598        619              293        167        804   \n",
       "4        120        430        581               64        109        481   \n",
       "\n",
       "  Unnamed: 8 triple sequencing Unnamed: 10 Unnamed: 11 Unnamed: 12  \\\n",
       "0         T0          endpoint    endpoint          T0          T0   \n",
       "1       Rep2              Rep1        Rep2        Rep1        Rep2   \n",
       "2        487                37          21         229         305   \n",
       "3        846               215          87         524         519   \n",
       "4        683                48          60         300         420   \n",
       "\n",
       "  triple sequencing.1 Unnamed: 14        Unnamed: 15  \n",
       "0           phenotype   phenotype          phenotype  \n",
       "1                Rep1        Rep2  Replicate average  \n",
       "2           -0.470701   -0.532444          -0.501573  \n",
       "3           -0.334627   -0.424563          -0.379595  \n",
       "4           -0.479597   -0.445195          -0.462396  "
      ]
     },
     "execution_count": 13,
     "metadata": {},
     "output_type": "execute_result"
    }
   ],
   "source": [
    "df_growth = pd.read_excel(\"data/aax4438_tables3.xlsx\")\n",
    "df_growth.head()"
   ]
  },
  {
   "cell_type": "code",
   "execution_count": 14,
   "metadata": {},
   "outputs": [
    {
     "data": {
      "text/html": [
       "<div>\n",
       "<style scoped>\n",
       "    .dataframe tbody tr th:only-of-type {\n",
       "        vertical-align: middle;\n",
       "    }\n",
       "\n",
       "    .dataframe tbody tr th {\n",
       "        vertical-align: top;\n",
       "    }\n",
       "\n",
       "    .dataframe thead th {\n",
       "        text-align: right;\n",
       "    }\n",
       "</style>\n",
       "<table border=\"1\" class=\"dataframe\">\n",
       "  <thead>\n",
       "    <tr style=\"text-align: right;\">\n",
       "      <th></th>\n",
       "      <th>guide_id</th>\n",
       "      <th>growth_phenotype</th>\n",
       "    </tr>\n",
       "  </thead>\n",
       "  <tbody>\n",
       "    <tr>\n",
       "      <th>2</th>\n",
       "      <td>AHR_-_17338164.23-P1P2++AHR_-_17338164.23-P1P2</td>\n",
       "      <td>-0.501573</td>\n",
       "    </tr>\n",
       "    <tr>\n",
       "      <th>3</th>\n",
       "      <td>AHR_-_17338164.23-P1P2++AHR_-_17338168.23-P1P2</td>\n",
       "      <td>-0.379595</td>\n",
       "    </tr>\n",
       "    <tr>\n",
       "      <th>4</th>\n",
       "      <td>AHR_-_17338164.23-P1P2++ARID1A_+_27022167.23-P1P2</td>\n",
       "      <td>-0.462396</td>\n",
       "    </tr>\n",
       "    <tr>\n",
       "      <th>5</th>\n",
       "      <td>AHR_-_17338164.23-P1P2++ARID1A_-_27022243.23-P1P2</td>\n",
       "      <td>-0.577289</td>\n",
       "    </tr>\n",
       "    <tr>\n",
       "      <th>6</th>\n",
       "      <td>AHR_-_17338164.23-P1P2++ARRDC3_+_90679525.23-P1P2</td>\n",
       "      <td>-0.405569</td>\n",
       "    </tr>\n",
       "  </tbody>\n",
       "</table>\n",
       "</div>"
      ],
      "text/plain": [
       "                                            guide_id growth_phenotype\n",
       "2     AHR_-_17338164.23-P1P2++AHR_-_17338164.23-P1P2        -0.501573\n",
       "3     AHR_-_17338164.23-P1P2++AHR_-_17338168.23-P1P2        -0.379595\n",
       "4  AHR_-_17338164.23-P1P2++ARID1A_+_27022167.23-P1P2        -0.462396\n",
       "5  AHR_-_17338164.23-P1P2++ARID1A_-_27022243.23-P1P2        -0.577289\n",
       "6  AHR_-_17338164.23-P1P2++ARRDC3_+_90679525.23-P1P2        -0.405569"
      ]
     },
     "execution_count": 14,
     "metadata": {},
     "output_type": "execute_result"
    }
   ],
   "source": [
    "guide_id = df_growth[\"Unnamed: 0\"][2:]\n",
    "df_growth_subset = df_growth[[\"Unnamed: 0\",\"Unnamed: 15\"]]\n",
    "df_growth_subset.columns = [\"guide_id\", \"growth_phenotype\"]\n",
    "df_growth_subset = df_growth_subset.iloc[2:]\n",
    "df_growth_subset.head()"
   ]
  },
  {
   "cell_type": "code",
   "execution_count": 15,
   "metadata": {},
   "outputs": [
    {
     "name": "stdout",
     "output_type": "stream",
     "text": [
      "57118    negative_control_9++negative_control_5\n",
      "57119    negative_control_9++negative_control_6\n",
      "57120    negative_control_9++negative_control_7\n",
      "57121    negative_control_9++negative_control_8\n",
      "57122    negative_control_9++negative_control_9\n",
      "Name: guide_id, dtype: object\n"
     ]
    }
   ],
   "source": [
    "print(df_growth_subset[\"guide_id\"][-5:])"
   ]
  },
  {
   "cell_type": "code",
   "execution_count": 16,
   "metadata": {},
   "outputs": [],
   "source": [
    "def transform_guideid(guide_id):\n",
    "    g = guide_id\n",
    "    target_1 = g.split(\"++\")[0]\n",
    "    target_2 = g.split(\"++\")[1]\n",
    "    if (\"negative_control\" in target_1):\n",
    "        target_1 = target_1.replace(\"negative_control_\", \"NegCtrl\")\n",
    "    else:\n",
    "        target_1 = target_1.split(\"_\")[0]\n",
    "    if (\"negative_control\" in target_2):\n",
    "        target_2 = target_2.replace(\"negative_control_\", \"NegCtrl\")\n",
    "    else:\n",
    "        target_2 = target_2.split(\"_\")[0]\n",
    "\n",
    "    guide_id = target_1 + \"_\" + target_2\n",
    "    return guide_id"
   ]
  },
  {
   "cell_type": "code",
   "execution_count": 17,
   "metadata": {},
   "outputs": [
    {
     "name": "stdout",
     "output_type": "stream",
     "text": [
      "2       AHR_AHR\n",
      "3       AHR_AHR\n",
      "4    AHR_ARID1A\n",
      "5    AHR_ARID1A\n",
      "6    AHR_ARRDC3\n",
      "Name: guide_id, dtype: object\n"
     ]
    }
   ],
   "source": [
    "df_growth_subset[\"guide_id\"] = [transform_guideid(x) for x in df_growth_subset[\"guide_id\"].to_list()]\n",
    "print(df_growth_subset[\"guide_id\"][:5])"
   ]
  },
  {
   "cell_type": "code",
   "execution_count": 19,
   "metadata": {},
   "outputs": [
    {
     "data": {
      "text/html": [
       "<div>\n",
       "<style scoped>\n",
       "    .dataframe tbody tr th:only-of-type {\n",
       "        vertical-align: middle;\n",
       "    }\n",
       "\n",
       "    .dataframe tbody tr th {\n",
       "        vertical-align: top;\n",
       "    }\n",
       "\n",
       "    .dataframe thead th {\n",
       "        text-align: right;\n",
       "    }\n",
       "</style>\n",
       "<table border=\"1\" class=\"dataframe\">\n",
       "  <thead>\n",
       "    <tr style=\"text-align: right;\">\n",
       "      <th></th>\n",
       "      <th>growth_phenotype</th>\n",
       "    </tr>\n",
       "    <tr>\n",
       "      <th>guide_id</th>\n",
       "      <th></th>\n",
       "    </tr>\n",
       "  </thead>\n",
       "  <tbody>\n",
       "    <tr>\n",
       "      <th>AHR_AHR</th>\n",
       "      <td>-0.413976</td>\n",
       "    </tr>\n",
       "    <tr>\n",
       "      <th>AHR_ARID1A</th>\n",
       "      <td>-0.548629</td>\n",
       "    </tr>\n",
       "    <tr>\n",
       "      <th>AHR_ARRDC3</th>\n",
       "      <td>-0.429799</td>\n",
       "    </tr>\n",
       "    <tr>\n",
       "      <th>AHR_ATL1</th>\n",
       "      <td>-0.569432</td>\n",
       "    </tr>\n",
       "    <tr>\n",
       "      <th>AHR_BAK1</th>\n",
       "      <td>-0.578532</td>\n",
       "    </tr>\n",
       "  </tbody>\n",
       "</table>\n",
       "</div>"
      ],
      "text/plain": [
       "            growth_phenotype\n",
       "guide_id                    \n",
       "AHR_AHR            -0.413976\n",
       "AHR_ARID1A         -0.548629\n",
       "AHR_ARRDC3         -0.429799\n",
       "AHR_ATL1           -0.569432\n",
       "AHR_BAK1           -0.578532"
      ]
     },
     "execution_count": 19,
     "metadata": {},
     "output_type": "execute_result"
    }
   ],
   "source": [
    "df_growth_mean = df_growth_subset.groupby(\"guide_id\").agg('mean')\n",
    "df_growth_mean.head()"
   ]
  },
  {
   "cell_type": "code",
   "execution_count": 20,
   "metadata": {},
   "outputs": [
    {
     "data": {
      "text/html": [
       "<div>\n",
       "<style scoped>\n",
       "    .dataframe tbody tr th:only-of-type {\n",
       "        vertical-align: middle;\n",
       "    }\n",
       "\n",
       "    .dataframe tbody tr th {\n",
       "        vertical-align: top;\n",
       "    }\n",
       "\n",
       "    .dataframe thead th {\n",
       "        text-align: right;\n",
       "    }\n",
       "</style>\n",
       "<table border=\"1\" class=\"dataframe\">\n",
       "  <thead>\n",
       "    <tr style=\"text-align: right;\">\n",
       "      <th></th>\n",
       "      <th>viability</th>\n",
       "    </tr>\n",
       "    <tr>\n",
       "      <th>guide_id</th>\n",
       "      <th></th>\n",
       "    </tr>\n",
       "  </thead>\n",
       "  <tbody>\n",
       "    <tr>\n",
       "      <th>AHR_FEV</th>\n",
       "      <td>-0.116361</td>\n",
       "    </tr>\n",
       "    <tr>\n",
       "      <th>AHR_KLF1</th>\n",
       "      <td>0.015989</td>\n",
       "    </tr>\n",
       "    <tr>\n",
       "      <th>AHR_NegCtrl0</th>\n",
       "      <td>-0.034242</td>\n",
       "    </tr>\n",
       "    <tr>\n",
       "      <th>ARID1A_NegCtrl0</th>\n",
       "      <td>-0.094581</td>\n",
       "    </tr>\n",
       "    <tr>\n",
       "      <th>ARRDC3_NegCtrl0</th>\n",
       "      <td>-0.000067</td>\n",
       "    </tr>\n",
       "  </tbody>\n",
       "</table>\n",
       "</div>"
      ],
      "text/plain": [
       "                 viability\n",
       "guide_id                  \n",
       "AHR_FEV          -0.116361\n",
       "AHR_KLF1          0.015989\n",
       "AHR_NegCtrl0     -0.034242\n",
       "ARID1A_NegCtrl0  -0.094581\n",
       "ARRDC3_NegCtrl0  -0.000067"
      ]
     },
     "execution_count": 20,
     "metadata": {},
     "output_type": "execute_result"
    }
   ],
   "source": [
    "df_perturb_viab_mean = df_perturb_viab.groupby(\"guide_id\").agg('mean')\n",
    "df_perturb_viab_mean.head()"
   ]
  },
  {
   "cell_type": "code",
   "execution_count": 22,
   "metadata": {},
   "outputs": [
    {
     "data": {
      "text/html": [
       "<div>\n",
       "<style scoped>\n",
       "    .dataframe tbody tr th:only-of-type {\n",
       "        vertical-align: middle;\n",
       "    }\n",
       "\n",
       "    .dataframe tbody tr th {\n",
       "        vertical-align: top;\n",
       "    }\n",
       "\n",
       "    .dataframe thead th {\n",
       "        text-align: right;\n",
       "    }\n",
       "</style>\n",
       "<table border=\"1\" class=\"dataframe\">\n",
       "  <thead>\n",
       "    <tr style=\"text-align: right;\">\n",
       "      <th></th>\n",
       "      <th>growth_phenotype</th>\n",
       "      <th>viability</th>\n",
       "    </tr>\n",
       "    <tr>\n",
       "      <th>guide_id</th>\n",
       "      <th></th>\n",
       "      <th></th>\n",
       "    </tr>\n",
       "  </thead>\n",
       "  <tbody>\n",
       "    <tr>\n",
       "      <th>AHR_FEV</th>\n",
       "      <td>-0.637443</td>\n",
       "      <td>-0.116361</td>\n",
       "    </tr>\n",
       "    <tr>\n",
       "      <th>AHR_KLF1</th>\n",
       "      <td>-0.081194</td>\n",
       "      <td>0.015989</td>\n",
       "    </tr>\n",
       "    <tr>\n",
       "      <th>AHR_NegCtrl0</th>\n",
       "      <td>-0.384986</td>\n",
       "      <td>-0.034242</td>\n",
       "    </tr>\n",
       "    <tr>\n",
       "      <th>ARID1A_NegCtrl0</th>\n",
       "      <td>-0.288255</td>\n",
       "      <td>-0.094581</td>\n",
       "    </tr>\n",
       "    <tr>\n",
       "      <th>ARRDC3_NegCtrl0</th>\n",
       "      <td>-0.127592</td>\n",
       "      <td>-0.000067</td>\n",
       "    </tr>\n",
       "  </tbody>\n",
       "</table>\n",
       "</div>"
      ],
      "text/plain": [
       "                 growth_phenotype  viability\n",
       "guide_id                                    \n",
       "AHR_FEV                 -0.637443  -0.116361\n",
       "AHR_KLF1                -0.081194   0.015989\n",
       "AHR_NegCtrl0            -0.384986  -0.034242\n",
       "ARID1A_NegCtrl0         -0.288255  -0.094581\n",
       "ARRDC3_NegCtrl0         -0.127592  -0.000067"
      ]
     },
     "execution_count": 22,
     "metadata": {},
     "output_type": "execute_result"
    }
   ],
   "source": [
    "merge_viab_growth = pd.merge(df_growth_mean, df_perturb_viab_mean, how='inner', left_index=True, right_index=True)\n",
    "merge_viab_growth.head()"
   ]
  },
  {
   "cell_type": "code",
   "execution_count": 23,
   "metadata": {},
   "outputs": [
    {
     "name": "stdout",
     "output_type": "stream",
     "text": [
      "(283, 2)\n"
     ]
    }
   ],
   "source": [
    "print(merge_viab_growth.shape)"
   ]
  },
  {
   "cell_type": "code",
   "execution_count": 24,
   "metadata": {},
   "outputs": [],
   "source": [
    "merge_viab_growth.to_csv(\"./result/merge_viab_growth.csv\")"
   ]
  },
  {
   "cell_type": "code",
   "execution_count": 26,
   "metadata": {},
   "outputs": [],
   "source": [
    "import matplotlib.pyplot as plt\n",
    "import seaborn as sns"
   ]
  },
  {
   "cell_type": "code",
   "execution_count": 25,
   "metadata": {},
   "outputs": [
    {
     "data": {
      "text/plain": [
       "array([[1.        , 0.73746793],\n",
       "       [0.73746793, 1.        ]])"
      ]
     },
     "execution_count": 25,
     "metadata": {},
     "output_type": "execute_result"
    }
   ],
   "source": [
    "corr = np.corrcoef(merge_viab_growth[\"growth_phenotype\"], merge_viab_growth[\"viability\"])\n",
    "corr"
   ]
  },
  {
   "cell_type": "code",
   "execution_count": 28,
   "metadata": {},
   "outputs": [
    {
     "data": {
      "text/plain": [
       "Text(0.9, 1, 'Pearson:0.74')"
      ]
     },
     "execution_count": 28,
     "metadata": {},
     "output_type": "execute_result"
    },
    {
     "data": {
      "image/png": "[encoded data removed]",
      "text/plain": [
       "<Figure size 500x500 with 1 Axes>"
      ]
     },
     "metadata": {},
     "output_type": "display_data"
    }
   ],
   "source": [
    "p = sns.lmplot(x=\"viability\", y=\"growth_phenotype\", data=merge_viab_growth)\n",
    "ax = plt.gca()\n",
    "ax.text(0.9,1,\"Pearson:{:.2f}\".format(corr[0,1]),transform=ax.transAxes)"
   ]
  },
  {
   "attachments": {},
   "cell_type": "markdown",
   "metadata": {},
   "source": [
    "#### Replogle2022"
   ]
  }
 ],
 "metadata": {
  "kernelspec": {
   "display_name": "bioinformatics",
   "language": "python",
   "name": "python3"
  },
  "language_info": {
   "codemirror_mode": {
    "name": "ipython",
    "version": 3
   },
   "file_extension": ".py",
   "mimetype": "text/x-python",
   "name": "python",
   "nbconvert_exporter": "python",
   "pygments_lexer": "ipython3",
   "version": "3.9.16"
  },
  "orig_nbformat": 4
 },
 "nbformat": 4,
 "nbformat_minor": 2
}
